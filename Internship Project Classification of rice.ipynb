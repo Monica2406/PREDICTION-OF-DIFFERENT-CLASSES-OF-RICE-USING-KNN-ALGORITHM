{
 "cells": [
  {
   "cell_type": "code",
   "execution_count": 1,
   "id": "c575881a",
   "metadata": {},
   "outputs": [
    {
     "name": "stdout",
     "output_type": "stream",
     "text": [
      "          id  Area  MajorAxisLength  MinorAxisLength  Eccentricity  \\\n",
      "0          1  4537        92.229316        64.012769      0.719916   \n",
      "1          2  2872        74.691881        51.400454      0.725553   \n",
      "2          3  3048        76.293164        52.043491      0.731211   \n",
      "3          4  3073        77.033628        51.928487      0.738639   \n",
      "4          5  3693        85.124785        56.374021      0.749282   \n",
      "...      ...   ...              ...              ...           ...   \n",
      "18180  18181  5853       148.624571        51.029281      0.939210   \n",
      "18181  18182  7585       169.593996        58.141659      0.939398   \n",
      "18182  18183  6365       154.777085        52.908085      0.939760   \n",
      "18183  18184  5960       151.397924        51.474600      0.940427   \n",
      "18184  18185  6134       153.081981        51.590606      0.941500   \n",
      "\n",
      "       ConvexArea  EquivDiameter    Extent  Perimeter  Roundness  \\\n",
      "0            4677      76.004525  0.657536    273.085   0.764510   \n",
      "1            3015      60.471018  0.713009    208.317   0.831658   \n",
      "2            3132      62.296341  0.759153    210.012   0.868434   \n",
      "3            3157      62.551300  0.783529    210.657   0.870203   \n",
      "4            3802      68.571668  0.769375    230.332   0.874743   \n",
      "...           ...            ...       ...        ...        ...   \n",
      "18180        6008      86.326537  0.498594    332.960   0.663444   \n",
      "18181        7806      98.272692  0.647461    385.506   0.641362   \n",
      "18182        6531      90.023162  0.561287    342.253   0.682832   \n",
      "18183        6189      87.112041  0.492399    343.371   0.635227   \n",
      "18184        6283      88.374495  0.489975    338.613   0.672274   \n",
      "\n",
      "       AspectRation  Class  \n",
      "0          1.440796      1  \n",
      "1          1.453137      1  \n",
      "2          1.465950      1  \n",
      "3          1.483456      1  \n",
      "4          1.510000      1  \n",
      "...             ...    ...  \n",
      "18180      2.912535      0  \n",
      "18181      2.916910      0  \n",
      "18182      2.925396      0  \n",
      "18183      2.941216      0  \n",
      "18184      2.967245      0  \n",
      "\n",
      "[18185 rows x 12 columns]\n"
     ]
    }
   ],
   "source": [
    "import pandas as pd  #STANDARD LIBRARY PANDAS \n",
    "path=\"C:\\\\Users\\\\MONICA P\\\\OneDrive\\\\Desktop\\\\KTS INTERNSHIP\\\\Data\\\\Data\\\\riceClassification.csv\"\n",
    "data=pd.read_csv(path)\n",
    "print(data)"
   ]
  },
  {
   "cell_type": "code",
   "execution_count": 2,
   "id": "65539d5a",
   "metadata": {},
   "outputs": [
    {
     "name": "stdout",
     "output_type": "stream",
     "text": [
      "<class 'pandas.core.frame.DataFrame'>\n",
      "RangeIndex: 18185 entries, 0 to 18184\n",
      "Data columns (total 12 columns):\n",
      " #   Column           Non-Null Count  Dtype  \n",
      "---  ------           --------------  -----  \n",
      " 0   id               18185 non-null  int64  \n",
      " 1   Area             18185 non-null  int64  \n",
      " 2   MajorAxisLength  18185 non-null  float64\n",
      " 3   MinorAxisLength  18185 non-null  float64\n",
      " 4   Eccentricity     18185 non-null  float64\n",
      " 5   ConvexArea       18185 non-null  int64  \n",
      " 6   EquivDiameter    18185 non-null  float64\n",
      " 7   Extent           18185 non-null  float64\n",
      " 8   Perimeter        18185 non-null  float64\n",
      " 9   Roundness        18185 non-null  float64\n",
      " 10  AspectRation     18185 non-null  float64\n",
      " 11  Class            18185 non-null  int64  \n",
      "dtypes: float64(8), int64(4)\n",
      "memory usage: 1.7 MB\n",
      "None\n"
     ]
    }
   ],
   "source": [
    "print(data.info())"
   ]
  },
  {
   "cell_type": "code",
   "execution_count": 3,
   "id": "28a74a37",
   "metadata": {},
   "outputs": [
    {
     "name": "stdout",
     "output_type": "stream",
     "text": [
      "id                 0\n",
      "Area               0\n",
      "MajorAxisLength    0\n",
      "MinorAxisLength    0\n",
      "Eccentricity       0\n",
      "ConvexArea         0\n",
      "EquivDiameter      0\n",
      "Extent             0\n",
      "Perimeter          0\n",
      "Roundness          0\n",
      "AspectRation       0\n",
      "Class              0\n",
      "dtype: int64\n"
     ]
    }
   ],
   "source": [
    "print(data.isnull().sum())"
   ]
  },
  {
   "cell_type": "code",
   "execution_count": 4,
   "id": "53d8d2f2",
   "metadata": {},
   "outputs": [],
   "source": [
    "import sklearn  #STANDARD LIBRARY SKLEARN"
   ]
  },
  {
   "cell_type": "code",
   "execution_count": 5,
   "id": "eff50ebe",
   "metadata": {},
   "outputs": [
    {
     "name": "stdout",
     "output_type": "stream",
     "text": [
      "       Area  MajorAxisLength  MinorAxisLength  Eccentricity  ConvexArea  \\\n",
      "0      4537        92.229316        64.012769      0.719916        4677   \n",
      "1      2872        74.691881        51.400454      0.725553        3015   \n",
      "2      3048        76.293164        52.043491      0.731211        3132   \n",
      "3      3073        77.033628        51.928487      0.738639        3157   \n",
      "4      3693        85.124785        56.374021      0.749282        3802   \n",
      "...     ...              ...              ...           ...         ...   \n",
      "18180  5853       148.624571        51.029281      0.939210        6008   \n",
      "18181  7585       169.593996        58.141659      0.939398        7806   \n",
      "18182  6365       154.777085        52.908085      0.939760        6531   \n",
      "18183  5960       151.397924        51.474600      0.940427        6189   \n",
      "18184  6134       153.081981        51.590606      0.941500        6283   \n",
      "\n",
      "       EquivDiameter    Extent  Perimeter  Roundness  AspectRation  \n",
      "0          76.004525  0.657536    273.085   0.764510      1.440796  \n",
      "1          60.471018  0.713009    208.317   0.831658      1.453137  \n",
      "2          62.296341  0.759153    210.012   0.868434      1.465950  \n",
      "3          62.551300  0.783529    210.657   0.870203      1.483456  \n",
      "4          68.571668  0.769375    230.332   0.874743      1.510000  \n",
      "...              ...       ...        ...        ...           ...  \n",
      "18180      86.326537  0.498594    332.960   0.663444      2.912535  \n",
      "18181      98.272692  0.647461    385.506   0.641362      2.916910  \n",
      "18182      90.023162  0.561287    342.253   0.682832      2.925396  \n",
      "18183      87.112041  0.492399    343.371   0.635227      2.941216  \n",
      "18184      88.374495  0.489975    338.613   0.672274      2.967245  \n",
      "\n",
      "[18185 rows x 10 columns]\n",
      "          id  Class\n",
      "0          1      1\n",
      "1          2      1\n",
      "2          3      1\n",
      "3          4      1\n",
      "4          5      1\n",
      "...      ...    ...\n",
      "18180  18181      0\n",
      "18181  18182      0\n",
      "18182  18183      0\n",
      "18183  18184      0\n",
      "18184  18185      0\n",
      "\n",
      "[18185 rows x 2 columns]\n"
     ]
    }
   ],
   "source": [
    "inputs=data.drop(['Class','id'],'columns')\n",
    "output=data.drop(['Area','MajorAxisLength','MinorAxisLength','Eccentricity','ConvexArea', 'EquivDiameter','Extent','Perimeter', 'Roundness', 'AspectRation'],'columns')\n",
    "print(inputs)\n",
    "print(output)"
   ]
  },
  {
   "cell_type": "code",
   "execution_count": 6,
   "id": "cd25af1a",
   "metadata": {},
   "outputs": [
    {
     "name": "stdout",
     "output_type": "stream",
     "text": [
      "x_train        Area  MajorAxisLength  MinorAxisLength  Eccentricity  ConvexArea  \\\n",
      "10849  6855       135.558244        65.102942      0.877127        6974   \n",
      "3172   5334       139.323190        49.473396      0.934829        5443   \n",
      "17014  9218       166.602961        71.754768      0.902498        9417   \n",
      "9826   6570       167.239312        50.831843      0.952689        6719   \n",
      "2069   6348       150.018502        54.824767      0.930830        6469   \n",
      "...     ...              ...              ...           ...         ...   \n",
      "12169  8411       151.811997        71.041523      0.883751        8594   \n",
      "3118   4419       126.903901        45.118610      0.934663        4549   \n",
      "1394   5826       143.003590        53.535446      0.927282        5987   \n",
      "6846   6388       158.652741        52.243622      0.944227        6543   \n",
      "89     4472       106.216259        55.861038      0.850535        4642   \n",
      "\n",
      "       EquivDiameter    Extent  Perimeter  Roundness  AspectRation  \n",
      "10849      93.424071  0.607390    329.677   0.792574      2.082214  \n",
      "3172       82.410313  0.488462    315.048   0.675320      2.816123  \n",
      "17014     108.336153  0.564932    392.844   0.750596      2.321838  \n",
      "9826       91.461379  0.540296    364.062   0.622909      3.290050  \n",
      "2069       89.902862  0.699735    339.043   0.693964      2.736327  \n",
      "...              ...       ...        ...        ...           ...  \n",
      "12169     103.485351  0.627921    368.462   0.778524      2.136947  \n",
      "3118       75.009636  0.555709    282.956   0.693579      2.812673  \n",
      "1394       86.127194  0.513349    327.106   0.684232      2.671195  \n",
      "6846       90.185665  0.451098    355.302   0.635886      3.036787  \n",
      "89         75.458116  0.775312    274.486   0.745884      1.901437  \n",
      "\n",
      "[14548 rows x 10 columns]\n",
      "x_test        Area  MajorAxisLength  MinorAxisLength  Eccentricity  ConvexArea  \\\n",
      "62     4404       102.863475        55.967979      0.839021        4535   \n",
      "8970   5830       154.747847        48.498750      0.949620        5948   \n",
      "319    5555       129.020541        55.632277      0.902261        5733   \n",
      "2235   4749       130.109468        47.339728      0.931459        4867   \n",
      "16726  8754       161.121497        69.907396      0.900971        8953   \n",
      "...     ...              ...              ...           ...         ...   \n",
      "18026  8225       162.028892        65.283509      0.915238        8421   \n",
      "5778   6467       158.368329        53.249445      0.941777        6691   \n",
      "9492   4203       132.517383        40.839415      0.951328        4290   \n",
      "3545   6624       156.334634        55.091259      0.935852        6800   \n",
      "8741   7056       170.243854        53.683278      0.948982        7258   \n",
      "\n",
      "       EquivDiameter    Extent  Perimeter  Roundness  AspectRation  \n",
      "62         74.882221  0.613541    260.512   0.815458      1.837899  \n",
      "8970       86.156756  0.809722    334.618   0.654304      3.190759  \n",
      "319        84.100212  0.749663    305.326   0.748801      2.319167  \n",
      "2235       77.759981  0.650905    296.056   0.680870      2.748420  \n",
      "16726     105.574329  0.624661    381.678   0.755131      2.304785  \n",
      "...              ...       ...        ...        ...           ...  \n",
      "18026     102.334722  0.607998    376.319   0.729850      2.481927  \n",
      "5778       90.741612  0.797214    355.757   0.642105      2.974084  \n",
      "9492       73.153440  0.501671    284.206   0.653887      3.244840  \n",
      "3545       91.836478  0.533849    352.146   0.671251      2.837739  \n",
      "8741       94.783850  0.453937    380.815   0.611421      3.171264  \n",
      "\n",
      "[3637 rows x 10 columns]\n",
      "y_train           id  Class\n",
      "10849  10850      0\n",
      "3172    3173      1\n",
      "17014  17015      0\n",
      "9826    9827      1\n",
      "2069    2070      1\n",
      "...      ...    ...\n",
      "12169  12170      0\n",
      "3118    3119      1\n",
      "1394    1395      1\n",
      "6846    6847      1\n",
      "89        90      1\n",
      "\n",
      "[14548 rows x 2 columns]\n",
      "y_test           id  Class\n",
      "62        63      1\n",
      "8970    8971      1\n",
      "319      320      1\n",
      "2235    2236      1\n",
      "16726  16727      0\n",
      "...      ...    ...\n",
      "18026  18027      0\n",
      "5778    5779      1\n",
      "9492    9493      1\n",
      "3545    3546      1\n",
      "8741    8742      1\n",
      "\n",
      "[3637 rows x 2 columns]\n"
     ]
    }
   ],
   "source": [
    "import sklearn\n",
    "from sklearn.model_selection import train_test_split\n",
    "x_train,x_test,y_train,y_test=train_test_split(inputs,output,train_size=0.8)\n",
    "print(\"x_train\",x_train)\n",
    "print(\"x_test\",x_test)\n",
    "print(\"y_train\",y_train)\n",
    "print(\"y_test\",y_test)"
   ]
  },
  {
   "cell_type": "code",
   "execution_count": 7,
   "id": "24232d7c",
   "metadata": {},
   "outputs": [
    {
     "data": {
      "text/plain": [
       "KNeighborsClassifier(n_neighbors=135)"
      ]
     },
     "execution_count": 7,
     "metadata": {},
     "output_type": "execute_result"
    }
   ],
   "source": [
    "import sklearn\n",
    "from sklearn.neighbors import KNeighborsClassifier\n",
    "model=KNeighborsClassifier(n_neighbors=135)\n",
    "model.fit(x_train,y_train)"
   ]
  },
  {
   "cell_type": "code",
   "execution_count": 8,
   "id": "95073f2e",
   "metadata": {},
   "outputs": [
    {
     "name": "stdout",
     "output_type": "stream",
     "text": [
      "[[  1   1]\n",
      " [387   1]\n",
      " [258   1]\n",
      " ...\n",
      " [ 15   1]\n",
      " [312   1]\n",
      " [363   1]]\n",
      "          id  Class\n",
      "62        63      1\n",
      "8970    8971      1\n",
      "319      320      1\n",
      "2235    2236      1\n",
      "16726  16727      0\n",
      "...      ...    ...\n",
      "18026  18027      0\n",
      "5778    5779      1\n",
      "9492    9493      1\n",
      "3545    3546      1\n",
      "8741    8742      1\n",
      "\n",
      "[3637 rows x 2 columns]\n"
     ]
    }
   ],
   "source": [
    "y_pred=model.predict(x_test)\n",
    "print(y_pred)\n",
    "print(y_test)"
   ]
  },
  {
   "cell_type": "code",
   "execution_count": 12,
   "id": "9936bbc0",
   "metadata": {},
   "outputs": [
    {
     "name": "stdout",
     "output_type": "stream",
     "text": [
      "enter the Area:6941\n",
      "enter the MajorAxisLength:121.642\n",
      "enter the MinorAxisLength:75.14439\n",
      "enter the Eccentricity:0.786374\n",
      "enter the ConvexArea:7139\n",
      "enter the EquivDiameter:94.008287\n",
      "enter the Extent:0.637374\n",
      "enter the Perimeter:325.027\n",
      "enter the Roundness:0.825644\n",
      "enter the AspectRation:1.618777\n",
      "[[187   0]]\n"
     ]
    }
   ],
   "source": [
    "#TAKING THE INPUTS AND PRINTING THE RESULT\n",
    "Area=int(input(\"enter the Area:\"))\n",
    "MajorAxisLength=float(input(\"enter the MajorAxisLength:\"))\n",
    "MinorAxisLength=float(input(\"enter the MinorAxisLength:\"))\n",
    "Eccentricity=float(input(\"enter the Eccentricity:\"))\n",
    "ConvexArea=int(input(\"enter the ConvexArea:\"))\n",
    "EquivDiameter=float(input(\"enter the EquivDiameter:\"))\n",
    "Extent=float(input(\"enter the Extent:\"))\n",
    "Perimeter=float(input(\"enter the Perimeter:\"))\n",
    "Roundness=float(input(\"enter the Roundness:\"))\n",
    "AspectRation=float(input(\"enter the AspectRation:\"))\n",
    "\n",
    "res=model.predict([[Area,MajorAxisLength,MinorAxisLength,Eccentricity,ConvexArea,EquivDiameter,Extent,Perimeter,Roundness,AspectRation]])\n",
    "print(res)"
   ]
  },
  {
   "cell_type": "code",
   "execution_count": null,
   "id": "64fcae3e",
   "metadata": {},
   "outputs": [],
   "source": []
  }
 ],
 "metadata": {
  "kernelspec": {
   "display_name": "Python 3",
   "language": "python",
   "name": "python3"
  },
  "language_info": {
   "codemirror_mode": {
    "name": "ipython",
    "version": 3
   },
   "file_extension": ".py",
   "mimetype": "text/x-python",
   "name": "python",
   "nbconvert_exporter": "python",
   "pygments_lexer": "ipython3",
   "version": "3.8.8"
  }
 },
 "nbformat": 4,
 "nbformat_minor": 5
}
